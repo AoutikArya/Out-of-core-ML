{
 "cells": [
  {
   "cell_type": "code",
   "execution_count": 2,
   "metadata": {},
   "outputs": [
    {
     "data": {
      "text/html": [
       "<table>\n",
       "<thead>\n",
       "<tr><th>#                                    </th><th>id  </th><th>x         </th><th>y          </th><th>z           </th><th>vx        </th><th>vy        </th><th>vz        </th><th>E          </th><th>L         </th><th>Lz        </th><th>FeH        </th></tr>\n",
       "</thead>\n",
       "<tbody>\n",
       "<tr><td><i style='opacity: 0.6'>0</i>        </td><td>25  </td><td>1.5591525 </td><td>-1.0355582 </td><td>-1.2342551  </td><td>-333.93762</td><td>14.448124 </td><td>-127.04698</td><td>-120484.99 </td><td>706.56744 </td><td>-323.28503</td><td>-0.8045992 </td></tr>\n",
       "<tr><td><i style='opacity: 0.6'>1</i>        </td><td>0   </td><td>-1.2007784</td><td>-0.46247822</td><td>-0.35920778 </td><td>251.57025 </td><td>-230.97308</td><td>-57.01336 </td><td>-155375.98 </td><td>428.27997 </td><td>393.69324 </td><td>-0.95396304</td></tr>\n",
       "<tr><td><i style='opacity: 0.6'>2</i>        </td><td>7   </td><td>-1.7470163</td><td>1.9494433  </td><td>-2.0347395  </td><td>-300.65564</td><td>209.71863 </td><td>98.730156 </td><td>-91698.15  </td><td>1023.08856</td><td>219.72926 </td><td>-1.796198  </td></tr>\n",
       "<tr><td><i style='opacity: 0.6'>3</i>        </td><td>4   </td><td>-5.90749  </td><td>-1.2057447 </td><td>3.5281541   </td><td>-157.84805</td><td>-189.96689</td><td>200.09796 </td><td>-79208.95  </td><td>1201.368  </td><td>931.903   </td><td>-1.4722667 </td></tr>\n",
       "<tr><td><i style='opacity: 0.6'>4</i>        </td><td>25  </td><td>-4.6059566</td><td>-2.8173962 </td><td>1.4604418   </td><td>-19.82385 </td><td>41.93743  </td><td>5.5564847 </td><td>-143025.4  </td><td>260.63956 </td><td>-249.01363</td><td>-0.89341164</td></tr>\n",
       "<tr><td>...                                  </td><td>... </td><td>...       </td><td>...        </td><td>...         </td><td>...       </td><td>...       </td><td>...       </td><td>...        </td><td>...       </td><td>...       </td><td>...        </td></tr>\n",
       "<tr><td><i style='opacity: 0.6'>3,299,995</i></td><td>16  </td><td>-10.562079</td><td>-13.517659 </td><td>-0.255374   </td><td>113.22222 </td><td>15.439545 </td><td>-27.64155 </td><td>-82553.8   </td><td>1454.4359 </td><td>1367.4257 </td><td>-2.0128398 </td></tr>\n",
       "<tr><td><i style='opacity: 0.6'>3,299,996</i></td><td>23  </td><td>4.051899  </td><td>1.5419586  </td><td>-1.0596558  </td><td>-223.5088 </td><td>109.15839 </td><td>-91.93414 </td><td>-120274.94 </td><td>995.62195 </td><td>786.94006 </td><td>-1.7964416 </td></tr>\n",
       "<tr><td><i style='opacity: 0.6'>3,299,997</i></td><td>22  </td><td>2.5417993 </td><td>1.9468315  </td><td>-1.0098917  </td><td>107.93812 </td><td>33.782146 </td><td>-84.91948 </td><td>-157932.25 </td><td>209.9375  </td><td>-124.26989</td><td>-0.8232596 </td></tr>\n",
       "<tr><td><i style='opacity: 0.6'>3,299,998</i></td><td>27  </td><td>6.1693034 </td><td>4.3464093  </td><td>7.2642264   </td><td>33.274296 </td><td>-72.55161 </td><td>-84.66383 </td><td>-102009.875</td><td>979.67175 </td><td>-592.2166 </td><td>-1.4459641 </td></tr>\n",
       "<tr><td><i style='opacity: 0.6'>3,299,999</i></td><td>22  </td><td>0.10937127</td><td>-1.9420192 </td><td>-0.029312406</td><td>-66.17059 </td><td>202.93204 </td><td>114.33533 </td><td>-168679.61 </td><td>241.0592  </td><td>-106.30963</td><td>-0.71493447</td></tr>\n",
       "</tbody>\n",
       "</table>"
      ],
      "text/plain": [
       "#          id    x           y            z             vx          vy          vz          E            L           Lz          FeH\n",
       "0          25    1.5591525   -1.0355582   -1.2342551    -333.93762  14.448124   -127.04698  -120484.99   706.56744   -323.28503  -0.8045992\n",
       "1          0     -1.2007784  -0.46247822  -0.35920778   251.57025   -230.97308  -57.01336   -155375.98   428.27997   393.69324   -0.95396304\n",
       "2          7     -1.7470163  1.9494433    -2.0347395    -300.65564  209.71863   98.730156   -91698.15    1023.08856  219.72926   -1.796198\n",
       "3          4     -5.90749    -1.2057447   3.5281541     -157.84805  -189.96689  200.09796   -79208.95    1201.368    931.903     -1.4722667\n",
       "4          25    -4.6059566  -2.8173962   1.4604418     -19.82385   41.93743    5.5564847   -143025.4    260.63956   -249.01363  -0.89341164\n",
       "...        ...   ...         ...          ...           ...         ...         ...         ...          ...         ...         ...\n",
       "3,299,995  16    -10.562079  -13.517659   -0.255374     113.22222   15.439545   -27.64155   -82553.8     1454.4359   1367.4257   -2.0128398\n",
       "3,299,996  23    4.051899    1.5419586    -1.0596558    -223.5088   109.15839   -91.93414   -120274.94   995.62195   786.94006   -1.7964416\n",
       "3,299,997  22    2.5417993   1.9468315    -1.0098917    107.93812   33.782146   -84.91948   -157932.25   209.9375    -124.26989  -0.8232596\n",
       "3,299,998  27    6.1693034   4.3464093    7.2642264     33.274296   -72.55161   -84.66383   -102009.875  979.67175   -592.2166   -1.4459641\n",
       "3,299,999  22    0.10937127  -1.9420192   -0.029312406  -66.17059   202.93204   114.33533   -168679.61   241.0592    -106.30963  -0.71493447"
      ]
     },
     "execution_count": 2,
     "metadata": {},
     "output_type": "execute_result"
    }
   ],
   "source": [
    "import vaex\n",
    "import vaex.ml\n",
    "\n",
    "import matplotlib.pyplot as plt\n",
    "\n",
    "\n",
    "df = vaex.open('./helmi-dezeeuw-2000-FeH-v2_2.hdf5')\n",
    "df"
   ]
  },
  {
   "cell_type": "code",
   "execution_count": 3,
   "metadata": {},
   "outputs": [
    {
     "data": {
      "text/html": [
       "<table>\n",
       "<thead>\n",
       "<tr><th>#                                    </th><th>x         </th><th>y          </th><th>z           </th><th>vx        </th><th>vy        </th><th>vz        </th><th>E          </th><th>L         </th><th>Lz        </th><th>FeH        </th></tr>\n",
       "</thead>\n",
       "<tbody>\n",
       "<tr><td><i style='opacity: 0.6'>0</i>        </td><td>1.5591525 </td><td>-1.0355582 </td><td>-1.2342551  </td><td>-333.93762</td><td>14.448124 </td><td>-127.04698</td><td>-120484.99 </td><td>706.56744 </td><td>-323.28503</td><td>-0.8045992 </td></tr>\n",
       "<tr><td><i style='opacity: 0.6'>1</i>        </td><td>-1.2007784</td><td>-0.46247822</td><td>-0.35920778 </td><td>251.57025 </td><td>-230.97308</td><td>-57.01336 </td><td>-155375.98 </td><td>428.27997 </td><td>393.69324 </td><td>-0.95396304</td></tr>\n",
       "<tr><td><i style='opacity: 0.6'>2</i>        </td><td>-1.7470163</td><td>1.9494433  </td><td>-2.0347395  </td><td>-300.65564</td><td>209.71863 </td><td>98.730156 </td><td>-91698.15  </td><td>1023.08856</td><td>219.72926 </td><td>-1.796198  </td></tr>\n",
       "<tr><td><i style='opacity: 0.6'>3</i>        </td><td>-5.90749  </td><td>-1.2057447 </td><td>3.5281541   </td><td>-157.84805</td><td>-189.96689</td><td>200.09796 </td><td>-79208.95  </td><td>1201.368  </td><td>931.903   </td><td>-1.4722667 </td></tr>\n",
       "<tr><td><i style='opacity: 0.6'>4</i>        </td><td>-4.6059566</td><td>-2.8173962 </td><td>1.4604418   </td><td>-19.82385 </td><td>41.93743  </td><td>5.5564847 </td><td>-143025.4  </td><td>260.63956 </td><td>-249.01363</td><td>-0.89341164</td></tr>\n",
       "<tr><td>...                                  </td><td>...       </td><td>...        </td><td>...         </td><td>...       </td><td>...       </td><td>...       </td><td>...        </td><td>...       </td><td>...       </td><td>...        </td></tr>\n",
       "<tr><td><i style='opacity: 0.6'>3,299,995</i></td><td>-10.562079</td><td>-13.517659 </td><td>-0.255374   </td><td>113.22222 </td><td>15.439545 </td><td>-27.64155 </td><td>-82553.8   </td><td>1454.4359 </td><td>1367.4257 </td><td>-2.0128398 </td></tr>\n",
       "<tr><td><i style='opacity: 0.6'>3,299,996</i></td><td>4.051899  </td><td>1.5419586  </td><td>-1.0596558  </td><td>-223.5088 </td><td>109.15839 </td><td>-91.93414 </td><td>-120274.94 </td><td>995.62195 </td><td>786.94006 </td><td>-1.7964416 </td></tr>\n",
       "<tr><td><i style='opacity: 0.6'>3,299,997</i></td><td>2.5417993 </td><td>1.9468315  </td><td>-1.0098917  </td><td>107.93812 </td><td>33.782146 </td><td>-84.91948 </td><td>-157932.25 </td><td>209.9375  </td><td>-124.26989</td><td>-0.8232596 </td></tr>\n",
       "<tr><td><i style='opacity: 0.6'>3,299,998</i></td><td>6.1693034 </td><td>4.3464093  </td><td>7.2642264   </td><td>33.274296 </td><td>-72.55161 </td><td>-84.66383 </td><td>-102009.875</td><td>979.67175 </td><td>-592.2166 </td><td>-1.4459641 </td></tr>\n",
       "<tr><td><i style='opacity: 0.6'>3,299,999</i></td><td>0.10937127</td><td>-1.9420192 </td><td>-0.029312406</td><td>-66.17059 </td><td>202.93204 </td><td>114.33533 </td><td>-168679.61 </td><td>241.0592  </td><td>-106.30963</td><td>-0.71493447</td></tr>\n",
       "</tbody>\n",
       "</table>"
      ],
      "text/plain": [
       "#          x           y            z             vx          vy          vz          E            L           Lz          FeH\n",
       "0          1.5591525   -1.0355582   -1.2342551    -333.93762  14.448124   -127.04698  -120484.99   706.56744   -323.28503  -0.8045992\n",
       "1          -1.2007784  -0.46247822  -0.35920778   251.57025   -230.97308  -57.01336   -155375.98   428.27997   393.69324   -0.95396304\n",
       "2          -1.7470163  1.9494433    -2.0347395    -300.65564  209.71863   98.730156   -91698.15    1023.08856  219.72926   -1.796198\n",
       "3          -5.90749    -1.2057447   3.5281541     -157.84805  -189.96689  200.09796   -79208.95    1201.368    931.903     -1.4722667\n",
       "4          -4.6059566  -2.8173962   1.4604418     -19.82385   41.93743    5.5564847   -143025.4    260.63956   -249.01363  -0.89341164\n",
       "...        ...         ...          ...           ...         ...         ...         ...          ...         ...         ...\n",
       "3,299,995  -10.562079  -13.517659   -0.255374     113.22222   15.439545   -27.64155   -82553.8     1454.4359   1367.4257   -2.0128398\n",
       "3,299,996  4.051899    1.5419586    -1.0596558    -223.5088   109.15839   -91.93414   -120274.94   995.62195   786.94006   -1.7964416\n",
       "3,299,997  2.5417993   1.9468315    -1.0098917    107.93812   33.782146   -84.91948   -157932.25   209.9375    -124.26989  -0.8232596\n",
       "3,299,998  6.1693034   4.3464093    7.2642264     33.274296   -72.55161   -84.66383   -102009.875  979.67175   -592.2166   -1.4459641\n",
       "3,299,999  0.10937127  -1.9420192   -0.029312406  -66.17059   202.93204   114.33533   -168679.61   241.0592    -106.30963  -0.71493447"
      ]
     },
     "execution_count": 3,
     "metadata": {},
     "output_type": "execute_result"
    }
   ],
   "source": [
    "df.drop('id',inplace=True)"
   ]
  },
  {
   "cell_type": "code",
   "execution_count": 5,
   "metadata": {},
   "outputs": [
    {
     "data": {
      "text/plain": [
       "['Lz', 'FeH']"
      ]
     },
     "execution_count": 5,
     "metadata": {},
     "output_type": "execute_result"
    }
   ],
   "source": []
  },
  {
   "cell_type": "code",
   "execution_count": 8,
   "metadata": {},
   "outputs": [],
   "source": [
    "import vaex\n",
    "import vaex.ml\n",
    "from vaex.ml.sklearn import IncrementalPredictor\n",
    "from sklearn.linear_model import SGDRegressor\n",
    "\n",
    "\n",
    "\n",
    "features = df.column_names[:-2]\n",
    "target = 'FeH'\n",
    "\n",
    "standard_scaler = vaex.ml.StandardScaler(features=features)\n",
    "df = standard_scaler.fit_transform(df)\n",
    "\n",
    "features = df.get_column_names(regex='^standard')\n",
    "model = SGDRegressor(learning_rate='constant', eta0=0.01, random_state=42)\n",
    "\n",
    "incremental = IncrementalPredictor(model=model,\n",
    "                                    features=features,\n",
    "                                    target=target,\n",
    "                                    batch_size=1000,\n",
    "                                    num_epochs=3,\n",
    "                                    shuffle=True,\n",
    "                                    prediction_name='pred_FeH')\n",
    "incremental.fit(df=df)"
   ]
  },
  {
   "cell_type": "code",
   "execution_count": 9,
   "metadata": {},
   "outputs": [
    {
     "data": {
      "text/html": [
       "<table>\n",
       "<thead>\n",
       "<tr><th>#                            </th><th style=\"text-align: right;\">      FeH</th><th style=\"text-align: right;\">  pred_FeH</th></tr>\n",
       "</thead>\n",
       "<tbody>\n",
       "<tr><td><i style='opacity: 0.6'>0</i></td><td style=\"text-align: right;\">-0.804599</td><td style=\"text-align: right;\"> -0.804663</td></tr>\n",
       "<tr><td><i style='opacity: 0.6'>1</i></td><td style=\"text-align: right;\">-0.953963</td><td style=\"text-align: right;\"> -0.954071</td></tr>\n",
       "<tr><td><i style='opacity: 0.6'>2</i></td><td style=\"text-align: right;\">-1.7962  </td><td style=\"text-align: right;\"> -1.79616 </td></tr>\n",
       "<tr><td><i style='opacity: 0.6'>3</i></td><td style=\"text-align: right;\">-1.47227 </td><td style=\"text-align: right;\"> -1.47234 </td></tr>\n",
       "<tr><td><i style='opacity: 0.6'>4</i></td><td style=\"text-align: right;\">-0.893412</td><td style=\"text-align: right;\"> -0.893492</td></tr>\n",
       "</tbody>\n",
       "</table>"
      ],
      "text/plain": [
       "  #        FeH    pred_FeH\n",
       "  0  -0.804599   -0.804663\n",
       "  1  -0.953963   -0.954071\n",
       "  2  -1.7962     -1.79616\n",
       "  3  -1.47227    -1.47234\n",
       "  4  -0.893412   -0.893492"
      ]
     },
     "execution_count": 9,
     "metadata": {},
     "output_type": "execute_result"
    }
   ],
   "source": [
    "df = incremental.transform(df)\n",
    "df.head(5)[['FeH', 'pred_FeH']]"
   ]
  },
  {
   "cell_type": "code",
   "execution_count": 11,
   "metadata": {},
   "outputs": [
    {
     "data": {
      "text/plain": [
       "4.548781671780155e-05"
      ]
     },
     "execution_count": 11,
     "metadata": {},
     "output_type": "execute_result"
    }
   ],
   "source": [
    "df.ml.metrics.mean_absolute_error(df['FeH'],df['pred_FeH'])"
   ]
  },
  {
   "cell_type": "code",
   "execution_count": 12,
   "metadata": {},
   "outputs": [
    {
     "data": {
      "text/plain": [
       "0.9999999814282808"
      ]
     },
     "execution_count": 12,
     "metadata": {},
     "output_type": "execute_result"
    }
   ],
   "source": [
    "df.ml.metrics.r2_score(df['FeH'],df['pred_FeH'])"
   ]
  },
  {
   "cell_type": "code",
   "execution_count": null,
   "metadata": {},
   "outputs": [],
   "source": []
  }
 ],
 "metadata": {
  "kernelspec": {
   "display_name": "Python 3.9.12 64-bit",
   "language": "python",
   "name": "python3"
  },
  "language_info": {
   "codemirror_mode": {
    "name": "ipython",
    "version": 3
   },
   "file_extension": ".py",
   "mimetype": "text/x-python",
   "name": "python",
   "nbconvert_exporter": "python",
   "pygments_lexer": "ipython3",
   "version": "3.9.12"
  },
  "orig_nbformat": 4,
  "vscode": {
   "interpreter": {
    "hash": "3094eace73ec6a5a7592f77e5b30fe444383bda2a71084134e5e5132198c16c8"
   }
  }
 },
 "nbformat": 4,
 "nbformat_minor": 2
}
